{
 "cells": [
  {
   "cell_type": "markdown",
   "metadata": {},
   "source": [
    "<h1>CP467: Final Group project</h1>\n",
    "<ol>\n",
    "    <h2>Members:</h2>\n",
    "    <li>Duc Minh Nguyen - 203009140 - ducx9140@mylaurier.ca</li>\n",
    "    <li>Quang Quynh Anh Lam - </li>\n",
    "    <li>Mohiuddin Usama - </li>\n",
    "</ol>"
   ]
  },
  {
   "cell_type": "markdown",
   "metadata": {},
   "source": [
    "<h2>Import library</h2>"
   ]
  },
  {
   "cell_type": "code",
   "execution_count": 2,
   "metadata": {},
   "outputs": [
    {
     "ename": "ModuleNotFoundError",
     "evalue": "No module named 'matplotlib'",
     "output_type": "error",
     "traceback": [
      "\u001b[0;31m---------------------------------------------------------------------------\u001b[0m",
      "\u001b[0;31mModuleNotFoundError\u001b[0m                       Traceback (most recent call last)",
      "\u001b[1;32m/Users/nguyenminhduc/Desktop/workspace/cp467/final_project/CP467-Project/Code/Main.ipynb Cell 3\u001b[0m line \u001b[0;36m3\n\u001b[1;32m      <a href='vscode-notebook-cell:/Users/nguyenminhduc/Desktop/workspace/cp467/final_project/CP467-Project/Code/Main.ipynb#W6sZmlsZQ%3D%3D?line=0'>1</a>\u001b[0m \u001b[39mimport\u001b[39;00m \u001b[39mcv2\u001b[39;00m\n\u001b[1;32m      <a href='vscode-notebook-cell:/Users/nguyenminhduc/Desktop/workspace/cp467/final_project/CP467-Project/Code/Main.ipynb#W6sZmlsZQ%3D%3D?line=1'>2</a>\u001b[0m \u001b[39mimport\u001b[39;00m \u001b[39mnumpy\u001b[39;00m \u001b[39mas\u001b[39;00m \u001b[39mnp\u001b[39;00m\n\u001b[0;32m----> <a href='vscode-notebook-cell:/Users/nguyenminhduc/Desktop/workspace/cp467/final_project/CP467-Project/Code/Main.ipynb#W6sZmlsZQ%3D%3D?line=2'>3</a>\u001b[0m \u001b[39mimport\u001b[39;00m \u001b[39mmatplotlib\u001b[39;00m\u001b[39m.\u001b[39;00m\u001b[39mplot\u001b[39;00m \u001b[39mas\u001b[39;00m \u001b[39mplt\u001b[39;00m\n",
      "\u001b[0;31mModuleNotFoundError\u001b[0m: No module named 'matplotlib'"
     ]
    }
   ],
   "source": [
    "import cv2\n",
    "import numpy as np\n",
    "import matplotlib.plot as plt"
   ]
  },
  {
   "cell_type": "code",
   "execution_count": 1,
   "metadata": {},
   "outputs": [
    {
     "name": "stdout",
     "output_type": "stream",
     "text": [
      "test\n"
     ]
    }
   ],
   "source": [
    "print('test')"
   ]
  },
  {
   "cell_type": "markdown",
   "metadata": {},
   "source": [
    "<h2>Importing Images</h2>"
   ]
  },
  {
   "cell_type": "code",
   "execution_count": null,
   "metadata": {},
   "outputs": [],
   "source": [
    "\n",
    "#-----------------------------------------------------------------------------------------------------------\n",
    "#THIS IS JUST STARTER CODE AND SAMPLE CODE  TO GIVE US A GENERAL IDEA OF WHAT TO DO\n",
    "#-----------------------------------------------------------------------------------------------------------\n",
    "\n",
    "\n",
    "# Function to read images and detect features\n",
    "def detect_and_display_features(image_paths):\n",
    "    # Read images and detect features\n",
    "    for path in image_paths:\n",
    "        image = cv2.imread(path)\n",
    "        keypoints, descriptors = detect_features(image)\n",
    "        # Display keypoints for each image\n",
    "        display_keypoints(image, keypoints, path)\n",
    "\n",
    "# Function to detect features using a chosen algorithm like SIFT\n",
    "def detect_features(image):\n",
    "    sift = cv2.SIFT_create()\n",
    "    keypoints, descriptors = sift.detectAndCompute(image, None)\n",
    "    return keypoints, descriptors\n",
    "\n",
    "# Function to display keypoints on images and save them\n",
    "def display_keypoints(image, keypoints, image_path):\n",
    "    keypoints_image = cv2.drawKeypoints(image, keypoints, None)\n",
    "    cv2.imwrite(f'{image_path}_keypoints.png', keypoints_image)\n",
    "\n",
    "# TODO: Define functions for feature matching, image stitching, and evaluation metrics\n",
    "\n",
    "# Main execution\n",
    "if __name__ == \"__main__\":\n",
    "    # List of image paths\n",
    "    scene_image_paths = ['path_to_scene1', 'path_to_scene2', ...]\n",
    "    object_image_paths = ['path_to_object1', 'path_to_object2', ...]\n",
    "    \n",
    "    # Detect and display features\n",
    "    detect_and_display_features(scene_image_paths)\n",
    "    detect_and_display_features(object_image_paths)\n",
    "    \n",
    "    # More code to follow for matching, stitching, and evaluation\n"
   ]
  }
 ],
 "metadata": {
  "kernelspec": {
   "display_name": "Python 3",
   "language": "python",
   "name": "python3"
  },
  "language_info": {
   "codemirror_mode": {
    "name": "ipython",
    "version": 3
   },
   "file_extension": ".py",
   "mimetype": "text/x-python",
   "name": "python",
   "nbconvert_exporter": "python",
   "pygments_lexer": "ipython3",
   "version": "3.11.5"
  }
 },
 "nbformat": 4,
 "nbformat_minor": 5
}
